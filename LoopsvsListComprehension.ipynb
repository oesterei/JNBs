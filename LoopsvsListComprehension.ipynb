{
 "cells": [
  {
   "cell_type": "markdown",
   "id": "94ff8596",
   "metadata": {},
   "source": [
    "#### Traditional Loops"
   ]
  },
  {
   "cell_type": "code",
   "execution_count": 1,
   "id": "ae503355",
   "metadata": {},
   "outputs": [],
   "source": [
    "#Import time module\n",
    "import time"
   ]
  },
  {
   "cell_type": "markdown",
   "id": "4e35894b",
   "metadata": {},
   "source": [
    "## Traditional Loops"
   ]
  },
  {
   "cell_type": "markdown",
   "id": "6e8cc4f3",
   "metadata": {},
   "source": [
    "### Task 1: for loop example__________________________________________"
   ]
  },
  {
   "cell_type": "code",
   "execution_count": 2,
   "id": "3c425e86",
   "metadata": {},
   "outputs": [
    {
     "name": "stdout",
     "output_type": "stream",
     "text": [
      "[0, 1, 4, 9, 16, 25, 36, 49, 64, 81]\n"
     ]
    }
   ],
   "source": [
    "squares = []\n",
    "for x in range(10):\n",
    "    squares.append(x**2)\n",
    "print(squares)"
   ]
  },
  {
   "cell_type": "markdown",
   "id": "370fb432",
   "metadata": {},
   "source": [
    "### Task 1: while loop example__________________________________________"
   ]
  },
  {
   "cell_type": "code",
   "execution_count": 3,
   "id": "b8121f57",
   "metadata": {},
   "outputs": [
    {
     "name": "stdout",
     "output_type": "stream",
     "text": [
      "[0, 1, 4, 9, 16, 25, 36, 49, 64, 81]\n"
     ]
    }
   ],
   "source": [
    "squares = []\n",
    "x = 0\n",
    "while x < 10:\n",
    "    squares.append(x**2)\n",
    "    x = x + 1\n",
    "print(squares)"
   ]
  },
  {
   "cell_type": "markdown",
   "id": "ff912eac",
   "metadata": {},
   "source": [
    "### Task 2: for loop example__________________________________________"
   ]
  },
  {
   "cell_type": "code",
   "execution_count": 4,
   "id": "e1706e34",
   "metadata": {},
   "outputs": [
    {
     "name": "stdout",
     "output_type": "stream",
     "text": [
      "[0, 2, 4, 6, 8, 10, 12, 14, 16, 18]\n"
     ]
    }
   ],
   "source": [
    "evens = []\n",
    "for x in range(20):\n",
    "    if x % 2 == 0:\n",
    "        evens.append(x)\n",
    "print(evens)"
   ]
  },
  {
   "cell_type": "markdown",
   "id": "7edbb732",
   "metadata": {},
   "source": [
    "### Task 3: for loop example __________________________________________"
   ]
  },
  {
   "cell_type": "code",
   "execution_count": 5,
   "id": "2bdd51cf",
   "metadata": {},
   "outputs": [
    {
     "name": "stdout",
     "output_type": "stream",
     "text": [
      "[(0, 0), (0, 1), (0, 2), (1, 0), (1, 1), (1, 2), (2, 0), (2, 1), (2, 2)]\n"
     ]
    }
   ],
   "source": [
    "pairs = []\n",
    "for x in range(3):\n",
    "    for y in range(3):\n",
    "        pairs.append((x, y))\n",
    "print(pairs)"
   ]
  },
  {
   "cell_type": "markdown",
   "id": "608abab7",
   "metadata": {},
   "source": [
    "## List Comprehension"
   ]
  },
  {
   "cell_type": "markdown",
   "id": "6850be2f",
   "metadata": {},
   "source": [
    "### Task 1__________________________________________"
   ]
  },
  {
   "cell_type": "code",
   "execution_count": 6,
   "id": "fcb8af2f",
   "metadata": {},
   "outputs": [
    {
     "name": "stdout",
     "output_type": "stream",
     "text": [
      "[0, 1, 4, 9, 16, 25, 36, 49, 64, 81]\n"
     ]
    }
   ],
   "source": [
    "squares = [x**2 for x in range(10)]\n",
    "print(squares)"
   ]
  },
  {
   "cell_type": "markdown",
   "id": "cb5b3cf3",
   "metadata": {},
   "source": [
    "### Task 2__________________________________________"
   ]
  },
  {
   "cell_type": "code",
   "execution_count": 7,
   "id": "b0a77702",
   "metadata": {},
   "outputs": [
    {
     "name": "stdout",
     "output_type": "stream",
     "text": [
      "[0, 2, 4, 6, 8, 10, 12, 14, 16, 18]\n"
     ]
    }
   ],
   "source": [
    "evens = [x for x in range(20) if x % 2 == 0]\n",
    "print(evens)"
   ]
  },
  {
   "cell_type": "markdown",
   "id": "3f060981",
   "metadata": {},
   "source": [
    "### Task 3__________________________________________"
   ]
  },
  {
   "cell_type": "code",
   "execution_count": 8,
   "id": "0af08b62",
   "metadata": {},
   "outputs": [
    {
     "name": "stdout",
     "output_type": "stream",
     "text": [
      "[(0, 0), (0, 1), (0, 2), (1, 0), (1, 1), (1, 2), (2, 0), (2, 1), (2, 2)]\n"
     ]
    }
   ],
   "source": [
    "pairs = [(i, j) for i in range(3) for j in range(3)]\n",
    "print(pairs)"
   ]
  },
  {
   "cell_type": "markdown",
   "id": "913b6469",
   "metadata": {},
   "source": [
    "## Speed analysis"
   ]
  },
  {
   "cell_type": "markdown",
   "id": "d1062092",
   "metadata": {},
   "source": [
    "### Task 1__________________________________________"
   ]
  },
  {
   "cell_type": "code",
   "execution_count": 9,
   "id": "cfcb44e6",
   "metadata": {},
   "outputs": [
    {
     "name": "stdout",
     "output_type": "stream",
     "text": [
      "Time taken for_loop: 2177.45 ms\n",
      "Time taken for list_comprehension: 1924.62 ms\n",
      "Time taken for_loop: 2210.91 ms\n",
      "Time taken for list_comprehension: 1849.19 ms\n",
      "Time taken for_loop: 2209.03 ms\n",
      "Time taken for list_comprehension: 1929.7 ms\n",
      "Time taken for_loop: 2090.73 ms\n",
      "Time taken for list_comprehension: 1864.67 ms\n",
      "Time taken for_loop: 2116.76 ms\n",
      "Time taken for list_comprehension: 1832.7 ms\n"
     ]
    }
   ],
   "source": [
    "# define function to implement for loop \n",
    "def for_loop(n): \n",
    "    squares = []\n",
    "    for x in range(n):\n",
    "        squares.append(x**2)\n",
    "    return squares\n",
    "\n",
    "# define function to implement list comprehension \n",
    "def list_comprehension(n): \n",
    "    return [x**2 for x in range(n)]  \n",
    "\n",
    "for x in range(5): #loop 5 times to generate enough numbers for averaging\n",
    "    # Calculate time taken by for_loop() \n",
    "    begin = time.time() \n",
    "    for_loop(10**7) #large number selected to test efficiency effectively \n",
    "    end = time.time() \n",
    "\n",
    "    # Display time taken by for_loop() \n",
    "    print('Time taken for_loop:', round((end-begin)* 10**3, 2), \"ms\")\n",
    "\n",
    "    # Calculate time takens by list_comprehension() \n",
    "    begin = time.time() \n",
    "    list_comprehension(10**7) \n",
    "    end = time.time() \n",
    "\n",
    "    # Display time taken by for_loop() in milli. secs\n",
    "    print('Time taken for list_comprehension:', round((end-begin)* 10**3, 2), \"ms\") "
   ]
  },
  {
   "cell_type": "markdown",
   "id": "c46f27aa",
   "metadata": {},
   "source": [
    "### Task 2__________________________________________"
   ]
  },
  {
   "cell_type": "code",
   "execution_count": 10,
   "id": "b86338b0",
   "metadata": {},
   "outputs": [
    {
     "name": "stdout",
     "output_type": "stream",
     "text": [
      "Time taken for_loop: 54.43 ms\n",
      "Time taken for list_comprehension: 40.78 ms\n",
      "Time taken for_loop: 54.38 ms\n",
      "Time taken for list_comprehension: 40.0 ms\n",
      "Time taken for_loop: 50.96 ms\n",
      "Time taken for list_comprehension: 34.41 ms\n",
      "Time taken for_loop: 59.6 ms\n",
      "Time taken for list_comprehension: 39.25 ms\n",
      "Time taken for_loop: 49.98 ms\n",
      "Time taken for list_comprehension: 33.07 ms\n"
     ]
    }
   ],
   "source": [
    "# define function to implement for loop \n",
    "def for_loop(n): \n",
    "    evens = []\n",
    "    for x in range(n):\n",
    "        if x % 2 == 0:\n",
    "            evens.append(x)\n",
    "    return evens\n",
    "\n",
    "# define function to implement list comprehension \n",
    "def list_comprehension(n): \n",
    "    return [x for x in range(n) if x % 2 == 0]\n",
    "\n",
    "for x in range(5): #loop 5 times to generate enough numbers for averaging\n",
    "    # Calculate time taken by for_loop() \n",
    "    begin = time.time() \n",
    "    for_loop(10**6) \n",
    "    end = time.time() \n",
    "\n",
    "    # Display time taken by for_loop() \n",
    "    print('Time taken for_loop:', round((end-begin)* 10**3, 2), \"ms\")\n",
    "\n",
    "    # Calculate time takens by list_comprehension() \n",
    "    begin = time.time() \n",
    "    list_comprehension(10**6) \n",
    "    end = time.time() \n",
    "\n",
    "    # Display time taken by for_loop() in milli. secs\n",
    "    print('Time taken for list_comprehension:', round((end-begin)* 10**3, 2), \"ms\") "
   ]
  },
  {
   "cell_type": "markdown",
   "id": "f04a08ae",
   "metadata": {},
   "source": [
    "### Task 3__________________________________________"
   ]
  },
  {
   "cell_type": "code",
   "execution_count": 11,
   "id": "df34916f",
   "metadata": {},
   "outputs": [
    {
     "name": "stdout",
     "output_type": "stream",
     "text": [
      "Time taken for_loop: 11049.62 ms\n",
      "Time taken for list_comprehension: 9405.08 ms\n",
      "Time taken for_loop: 11406.24 ms\n",
      "Time taken for list_comprehension: 9343.9 ms\n",
      "Time taken for_loop: 11405.23 ms\n",
      "Time taken for list_comprehension: 9469.47 ms\n",
      "Time taken for_loop: 11728.75 ms\n",
      "Time taken for list_comprehension: 9312.26 ms\n",
      "Time taken for_loop: 11505.34 ms\n",
      "Time taken for list_comprehension: 9434.97 ms\n"
     ]
    }
   ],
   "source": [
    "# define function to implement for loop \n",
    "def for_loop(n): \n",
    "    pairs = []\n",
    "    for x in range(n):\n",
    "        for y in range(n):\n",
    "            pairs.append((x, y))\n",
    "    return pairs\n",
    "\n",
    "# define function to implement list comprehension \n",
    "def list_comprehension(n): \n",
    "    return [(i, j) for i in range(n) for j in range(n)]\n",
    "\n",
    "for x in range(5): #loop 5 times to generate enough numbers for averaging\n",
    "    # Calculate time taken by for_loop() \n",
    "    begin = time.time() \n",
    "    for_loop(10**4) \n",
    "    end = time.time() \n",
    "\n",
    "    # Display time taken by for_loop() \n",
    "    print('Time taken for_loop:', round((end-begin)* 10**3, 2), \"ms\")\n",
    "\n",
    "    # Calculate time takens by list_comprehension() \n",
    "    begin = time.time() \n",
    "    list_comprehension(10**4) \n",
    "    end = time.time() \n",
    "\n",
    "    # Display time taken by for_loop() in milli. secs\n",
    "    print('Time taken for list_comprehension:', round((end-begin)* 10**3, 2), \"ms\") "
   ]
  }
 ],
 "metadata": {
  "kernelspec": {
   "display_name": "Python 3 (ipykernel)",
   "language": "python",
   "name": "python3"
  },
  "language_info": {
   "codemirror_mode": {
    "name": "ipython",
    "version": 3
   },
   "file_extension": ".py",
   "mimetype": "text/x-python",
   "name": "python",
   "nbconvert_exporter": "python",
   "pygments_lexer": "ipython3",
   "version": "3.10.9"
  }
 },
 "nbformat": 4,
 "nbformat_minor": 5
}
