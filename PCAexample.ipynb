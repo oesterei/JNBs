{
 "cells": [
  {
   "cell_type": "code",
   "execution_count": 1,
   "id": "ec678f71",
   "metadata": {},
   "outputs": [],
   "source": [
    "import os\n",
    "import pandas as pd\n",
    "import numpy as np\n",
    "import scipy\n",
    "from sklearn.decomposition import PCA\n",
    "from matplotlib import pyplot as plt"
   ]
  },
  {
   "cell_type": "code",
   "execution_count": 2,
   "id": "ae259ea1",
   "metadata": {},
   "outputs": [],
   "source": [
    "#define directories\n",
    "cwd = os.getcwd()\n",
    "pathout = cwd + \"/output\"\n",
    "if not os.path.exists(pathout):\n",
    "    os.mkdir(pathout)"
   ]
  },
  {
   "cell_type": "code",
   "execution_count": 3,
   "id": "a7a4ef6e",
   "metadata": {},
   "outputs": [],
   "source": [
    "#load data\n",
    "dfRNAseq = pd.read_csv('forPCA.tcga.brca.rsem.csv', low_memory=False)\n",
    "\n",
    "RNAsampletype = dfRNAseq['sample_type']\n",
    "dfRNAseq.drop(['sample_type'], axis=1, inplace=True)"
   ]
  },
  {
   "cell_type": "markdown",
   "id": "e5753864",
   "metadata": {},
   "source": [
    "Typically it is necessary to log transform normalized counts before clustering."
   ]
  },
  {
   "cell_type": "code",
   "execution_count": 4,
   "id": "fa917760",
   "metadata": {},
   "outputs": [
    {
     "name": "stdout",
     "output_type": "stream",
     "text": [
      "                     A1BG       A1CF      A2BP1     A2LD1     A2ML1  \\\n",
      "sample_type                                                           \n",
      "Adjacent Normal  7.271211  -0.655396  -0.655396  6.901844  4.072569   \n",
      "Adjacent Normal  6.772788 -19.931569   1.911193  6.806967  4.289694   \n",
      "Adjacent Normal  3.980400 -19.931569  -0.973693  6.721155  4.518057   \n",
      "Adjacent Normal  4.253399 -19.931569 -19.931569  7.262724  3.291869   \n",
      "Adjacent Normal  5.376586 -19.931569  -1.035340  6.939526  1.964658   \n",
      "\n",
      "                       A2M    A4GALT     A4GNT       AAA1      AAAS  ...  \\\n",
      "sample_type                                                          ...   \n",
      "Adjacent Normal  15.294844  9.293015  0.929640 -19.931569  9.607330  ...   \n",
      "Adjacent Normal  14.994129  9.851934 -1.410808  -1.410808  9.672066  ...   \n",
      "Adjacent Normal  15.448018  9.084197  4.274135 -19.931569  9.218498  ...   \n",
      "Adjacent Normal  15.353528  9.340860  1.628914 -19.931569  9.122094  ...   \n",
      "Adjacent Normal  15.627595  8.982852  0.964658 -19.931569  9.259273  ...   \n",
      "\n",
      "                  SLC6A20    SLC6A2     SLC6A3    SLC6A4     SLC6A5  \\\n",
      "sample_type                                                           \n",
      "Adjacent Normal  2.045094  3.666575   1.514552  1.929602 -19.931569   \n",
      "Adjacent Normal  4.048681  4.676713   0.174152  4.946806 -19.931569   \n",
      "Adjacent Normal  3.418527  4.807566  -0.973693  2.833558 -19.931569   \n",
      "Adjacent Normal  0.628914  4.535798 -19.931569 -0.955953 -19.931569   \n",
      "Adjacent Normal  2.665097  4.134574   1.549620  3.424089 -19.931569   \n",
      "\n",
      "                    SLC6A6     SLC6A7     SLC6A8    SLC6A9   SLC7A10  \n",
      "sample_type                                                           \n",
      "Adjacent Normal   9.397216   2.251538   9.524557  8.504129  4.657166  \n",
      "Adjacent Normal   9.540537   2.174215   9.615084  7.898000  9.053461  \n",
      "Adjacent Normal  10.249603   0.611173  10.055492  5.968720  9.263307  \n",
      "Adjacent Normal  10.375980 -19.931569   9.816258  6.055170  9.771796  \n",
      "Adjacent Normal   9.825739 -19.931569   9.577521  7.083593  9.814503  \n",
      "\n",
      "[5 rows x 16381 columns]\n"
     ]
    }
   ],
   "source": [
    "#log2 transformation of RSEM normalized counts\n",
    "dfnormRNAseq = pd.DataFrame()\n",
    "epsilon = 0.000001\n",
    "\n",
    "for index, row in dfRNAseq.iterrows():\n",
    "    logarray = []\n",
    "    for value in row:\n",
    "        value = value + epsilon\n",
    "        logvalue = np.log2(value)\n",
    "        logarray = np.append(logarray, logvalue)\n",
    "    tempseries = pd.Series(logarray, name = index)\n",
    "    dfnormRNAseq = pd.concat([dfnormRNAseq, tempseries], axis=1, ignore_index=True)\n",
    "\n",
    "#format and save log2 transformed data\n",
    "header = list(dfRNAseq.head(0))\n",
    "\n",
    "dfnormRNAseq2 = dfnormRNAseq.T\n",
    "dfnormRNAseq2.columns = header\n",
    "dfnormRNAseq2 = dfnormRNAseq2.set_index([pd.Series(RNAsampletype)])\n",
    "\n",
    "#dfnormRNAseq2 = dfnormRNAseq2.assign(sample_type=lambda x: list(RNAsampletype))\n",
    "filename = pathout + '/log2data.txt'\n",
    "dfnormRNAseq2.to_csv(filename, sep='\\t', index=True, header=True)"
   ]
  },
  {
   "cell_type": "code",
   "execution_count": 5,
   "id": "2fa02d3d",
   "metadata": {},
   "outputs": [],
   "source": [
    "#perform PCA on entire RNA expression dataset\n",
    "pca = PCA(n_components=2)\n",
    "components = pca.fit_transform(dfnormRNAseq)"
   ]
  },
  {
   "cell_type": "code",
   "execution_count": 6,
   "id": "294ea182",
   "metadata": {},
   "outputs": [],
   "source": [
    "#separate PCA values by sample_type\n",
    "PCAtypedict = {}\n",
    "sampletypeset = set(RNAsampletype)\n",
    "\n",
    "for item in RNAsampletype:\n",
    "    PCAtypedict[item] = []\n",
    "count = 0\n",
    "for item in RNAsampletype:\n",
    "    PCAtypedict[item].append(components[count])\n",
    "    count = count + 1\n",
    "\n",
    "primtumorPCA = PCAtypedict['Primary Tumor']\n",
    "mettumorPCA = PCAtypedict['Metastasis']\n",
    "normPCA = PCAtypedict['Adjacent Normal']"
   ]
  },
  {
   "cell_type": "code",
   "execution_count": 7,
   "id": "42678ed8",
   "metadata": {},
   "outputs": [
    {
     "data": {
      "image/png": "[encoded data removed]",
      "text/plain": [
       "<Figure size 432x288 with 1 Axes>"
      ]
     },
     "metadata": {
      "needs_background": "light"
     },
     "output_type": "display_data"
    }
   ],
   "source": [
    "#visualize PCA results\n",
    "for i in mettumorPCA:\n",
    "    m = plt.scatter(i[0], i[1], marker='x', color = 'orange')\n",
    "for i in primtumorPCA:\n",
    "    pt = plt.scatter(i[0], i[1], marker='x', color = 'blue')\n",
    "for i in normPCA:\n",
    "    an = plt.scatter(i[0], i[1], marker='x', color = 'black')\n",
    "plt.title('PCA based on sample type')\n",
    "plt.xlabel('PC1')\n",
    "plt.ylabel('PC2')\n",
    "plt.legend((m, pt, an), ('Metastasis', 'Primary_Tumor', 'Adjacent_Normal'), loc=\"best\")\n",
    "plt.show()"
   ]
  }
 ],
 "metadata": {
  "kernelspec": {
   "display_name": "Python 3 (ipykernel)",
   "language": "python",
   "name": "python3"
  },
  "language_info": {
   "codemirror_mode": {
    "name": "ipython",
    "version": 3
   },
   "file_extension": ".py",
   "mimetype": "text/x-python",
   "name": "python",
   "nbconvert_exporter": "python",
   "pygments_lexer": "ipython3",
   "version": "3.9.12"
  }
 },
 "nbformat": 4,
 "nbformat_minor": 5
}
