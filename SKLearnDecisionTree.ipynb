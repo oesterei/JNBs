{
 "cells": [
  {
   "cell_type": "code",
   "execution_count": 1,
   "id": "e78ad317",
   "metadata": {},
   "outputs": [],
   "source": [
    "#modules for data manipulation\n",
    "import pandas as pd"
   ]
  },
  {
   "cell_type": "code",
   "execution_count": 2,
   "id": "7fa341e8",
   "metadata": {},
   "outputs": [
    {
     "name": "stdout",
     "output_type": "stream",
     "text": [
      "Here are the attributes: ['radius_mean', 'texture_mean', 'perimeter_mean', 'area_mean', 'smoothness_mean', 'compactness_mean', 'concavity_mean', 'concave points_mean', 'symmetry_mean', 'fractal_dimension_mean']\n"
     ]
    }
   ],
   "source": [
    "attribute_num = 10 #number of attributes\n",
    "\n",
    "df = pd.read_csv('data.csv', delimiter = \",\", low_memory=False)\n",
    "df.drop('id', axis=1, inplace=True) #remove id column\n",
    "\n",
    "X = df.iloc[:, 1 : (1 + attribute_num)] #select only the columns containing mean attribute data\n",
    "y = df.iloc[:, 0 : 1] #select only the first column which contains diagnosis data\n",
    "\n",
    "attribute_list = list(X.head())\n",
    "print('Here are the attributes:', attribute_list)"
   ]
  },
  {
   "cell_type": "code",
   "execution_count": 3,
   "id": "33b3e71e",
   "metadata": {},
   "outputs": [],
   "source": [
    "#modules for generating the tree\n",
    "from sklearn import tree, preprocessing\n",
    "from sklearn.preprocessing import StandardScaler\n",
    "from sklearn.model_selection import train_test_split\n",
    "import sklearn.metrics as metrics"
   ]
  },
  {
   "cell_type": "code",
   "execution_count": 4,
   "id": "dde3ef12",
   "metadata": {},
   "outputs": [],
   "source": [
    "sc = StandardScaler()\n",
    "sc.fit(X)\n",
    "df_train = sc.transform(X)"
   ]
  },
  {
   "cell_type": "code",
   "execution_count": 5,
   "id": "ae94e36b",
   "metadata": {},
   "outputs": [
    {
     "data": {
      "text/plain": [
       "DecisionTreeClassifier(criterion='entropy', max_leaf_nodes=6, random_state=0)"
      ]
     },
     "execution_count": 5,
     "metadata": {},
     "output_type": "execute_result"
    }
   ],
   "source": [
    "X_train, X_test, y_train, y_test = train_test_split(X, y, test_size=0.3, random_state=0)\n",
    "\n",
    "X_train_array = X_train.to_numpy()\n",
    "X_test_array = X_test.to_numpy()\n",
    "\n",
    "#process y_train and y_test for visualization such as convert diagnosis from B/M to 0/1\n",
    "label_encoder = preprocessing.LabelEncoder()\n",
    "label_encoder.fit(y_train.diagnosis)\n",
    "y_train['diagnosis'] = label_encoder.transform(y_train.diagnosis)\n",
    "y_test['diagnosis'] = label_encoder.transform(y_test.diagnosis)\n",
    "\n",
    "clf = tree.DecisionTreeClassifier(criterion = \"entropy\", max_leaf_nodes=6, random_state = 0)\n",
    "clf.fit(X_train_array, y_train)"
   ]
  },
  {
   "cell_type": "code",
   "execution_count": 6,
   "id": "c5ce4f7a",
   "metadata": {},
   "outputs": [
    {
     "name": "stdout",
     "output_type": "stream",
     "text": [
      "Train - Accuracy: 93.72%.\n",
      "\n",
      "Train - Confusing matrix:\n",
      "[[230  19]\n",
      " [  6 143]]\n",
      "\n",
      "Train - Classification report:\n",
      "              precision    recall  f1-score   support\n",
      "\n",
      "           0       0.97      0.92      0.95       249\n",
      "           1       0.88      0.96      0.92       149\n",
      "\n",
      "    accuracy                           0.94       398\n",
      "   macro avg       0.93      0.94      0.93       398\n",
      "weighted avg       0.94      0.94      0.94       398\n",
      "\n"
     ]
    }
   ],
   "source": [
    "print(f\"Train - Accuracy: {round(metrics.accuracy_score(y_train, clf.predict(X_train_array))*100,2)}%.\")\n",
    "print()\n",
    "print(\"Train - Confusing matrix:\")\n",
    "print(metrics.confusion_matrix(y_train, clf.predict(X_train_array)))\n",
    "print()\n",
    "print(\"Train - Classification report:\")\n",
    "print(metrics.classification_report(y_train, clf.predict(X_train_array)))"
   ]
  },
  {
   "cell_type": "code",
   "execution_count": 7,
   "id": "ea8fd78f",
   "metadata": {},
   "outputs": [
    {
     "name": "stdout",
     "output_type": "stream",
     "text": [
      "Test - Accuracy: 88.89%.\n",
      "\n",
      "Test - Confusing matrix:\n",
      "[[94 14]\n",
      " [ 5 58]]\n",
      "\n",
      "Test - Classification report:\n",
      "              precision    recall  f1-score   support\n",
      "\n",
      "           0       0.95      0.87      0.91       108\n",
      "           1       0.81      0.92      0.86        63\n",
      "\n",
      "    accuracy                           0.89       171\n",
      "   macro avg       0.88      0.90      0.88       171\n",
      "weighted avg       0.90      0.89      0.89       171\n",
      "\n"
     ]
    }
   ],
   "source": [
    "print(f\"Test - Accuracy: {round(metrics.accuracy_score(y_test, clf.predict(X_test_array))*100,2)}%.\")\n",
    "print()\n",
    "print(\"Test - Confusing matrix:\")\n",
    "print(metrics.confusion_matrix(y_test, clf.predict(X_test_array)))\n",
    "print()\n",
    "print(\"Test - Classification report:\")\n",
    "print(metrics.classification_report(y_test, clf.predict(X_test_array)))"
   ]
  },
  {
   "cell_type": "code",
   "execution_count": 8,
   "id": "56537825",
   "metadata": {},
   "outputs": [
    {
     "data": {
      "text/plain": [
       "'decision_tree_graphivz.pdf'"
      ]
     },
     "execution_count": 8,
     "metadata": {},
     "output_type": "execute_result"
    }
   ],
   "source": [
    "import graphviz #load tree visualization package\n",
    "\n",
    "#generate DOT data\n",
    "output_data2 = tree.export_graphviz(clf, out_file = None,\n",
    "                feature_names = attribute_list,\n",
    "                class_names = ['Benign', 'Malignant'],\n",
    "                filled = True, rounded = True, special_characters = True)\n",
    "\n",
    "graph = graphviz.Source(output_data2) #draw graph\n",
    "graph.render(\"decision_tree_graphivz\", view=True) #PDF output and open tree in new tab"
   ]
  },
  {
   "cell_type": "code",
   "execution_count": 9,
   "id": "38647bf5",
   "metadata": {},
   "outputs": [],
   "source": [
    "from dtreeviz.trees import * #load tree visualization package\n",
    "\n",
    "#generate DOT data\n",
    "viz = dtreeviz(clf, X_train, y_train.diagnosis,\n",
    "                target_name = \"State\",\n",
    "                feature_names = X_train.columns, histtype='barstacked',\n",
    "                class_names = ['Benign', 'Malignant'],\n",
    "                title = \"Decision Tree - Cancer data set\")\n",
    "\n",
    "viz.view() #open tree in new tab\n",
    "viz.save(\"decision_tree_dtreeviz.svg\") #SVG output"
   ]
  }
 ],
 "metadata": {
  "kernelspec": {
   "display_name": "Python 3 (ipykernel)",
   "language": "python",
   "name": "python3"
  },
  "language_info": {
   "codemirror_mode": {
    "name": "ipython",
    "version": 3
   },
   "file_extension": ".py",
   "mimetype": "text/x-python",
   "name": "python",
   "nbconvert_exporter": "python",
   "pygments_lexer": "ipython3",
   "version": "3.9.12"
  }
 },
 "nbformat": 4,
 "nbformat_minor": 5
}
