{
 "cells": [
  {
   "cell_type": "code",
   "execution_count": 10,
   "id": "f14f6290",
   "metadata": {},
   "outputs": [],
   "source": [
    "#modules for data manipulation\n",
    "import pandas as pd"
   ]
  },
  {
   "cell_type": "code",
   "execution_count": 11,
   "id": "bfdacc3b",
   "metadata": {},
   "outputs": [
    {
     "name": "stdout",
     "output_type": "stream",
     "text": [
      "Here are the attributes: ['radius_mean', 'texture_mean', 'perimeter_mean', 'area_mean', 'smoothness_mean', 'compactness_mean', 'concavity_mean', 'concave points_mean', 'symmetry_mean', 'fractal_dimension_mean']\n"
     ]
    }
   ],
   "source": [
    "#Example input data has 10 attributes with 30 data columns - 10 mean, 10 standard error (SE), and 10 worst values\n",
    "attribute_num = 10 #number of attributes\n",
    "\n",
    "df = pd.read_csv('data.csv', delimiter = \",\", low_memory=False)\n",
    "df.drop('id', axis=1, inplace=True) #remove id column\n",
    "\n",
    "X = df.iloc[:, 1 : (1 + attribute_num)] #select only the columns containing mean attribute data\n",
    "y = df.iloc[:, 0 : 1] #select only the first column which contains diagnosis data\n",
    "\n",
    "attribute_list = list(X.head())\n",
    "print('Here are the attributes:', attribute_list)"
   ]
  },
  {
   "cell_type": "code",
   "execution_count": 12,
   "id": "7ca0366b",
   "metadata": {},
   "outputs": [],
   "source": [
    "#modules for generating the trees\n",
    "from sklearn.model_selection import train_test_split\n",
    "from sklearn.ensemble import RandomForestClassifier\n",
    "import sklearn.metrics as metrics"
   ]
  },
  {
   "cell_type": "code",
   "execution_count": 13,
   "id": "cc191ecc",
   "metadata": {},
   "outputs": [],
   "source": [
    "num_trees = 1000 #number of random decision trees\n",
    "\n",
    "X_train, X_test, y_train, y_test = train_test_split(X, y, test_size=0.3, random_state=0)\n",
    "\n",
    "clf_RF = RandomForestClassifier(n_estimators = num_trees, max_features = \"auto\", random_state = 42, bootstrap = True).fit(X_train, y_train.values.ravel())"
   ]
  },
  {
   "cell_type": "code",
   "execution_count": 14,
   "id": "3ab05694",
   "metadata": {
    "scrolled": false
   },
   "outputs": [
    {
     "name": "stdout",
     "output_type": "stream",
     "text": [
      "All Attributes Random Forest - Train: 100.0%\n",
      "All Attributes Random Forest - Test: 93.57%\n"
     ]
    }
   ],
   "source": [
    "print(f\"Random forest from all attributes - Train: {round((metrics.accuracy_score(clf_RF.predict(X_train), y_train)) * 100, 2)}%\")\n",
    "print(f\"Random forest from all attributes - Test: {round((metrics.accuracy_score(clf_RF.predict(X_test), y_test)) * 100, 2)}%\")"
   ]
  },
  {
   "cell_type": "markdown",
   "id": "86823dd4",
   "metadata": {},
   "source": [
    "### Developing a random forest using only the most important attributes"
   ]
  },
  {
   "cell_type": "code",
   "execution_count": 15,
   "id": "56f41773",
   "metadata": {},
   "outputs": [
    {
     "name": "stdout",
     "output_type": "stream",
     "text": [
      "The importance of feature 'radius_mean' is 9.83%.\n",
      "The importance of feature 'texture_mean' is 6.02%.\n",
      "The importance of feature 'perimeter_mean' is 15.09%.\n",
      "The importance of feature 'area_mean' is 10.27%.\n",
      "The importance of feature 'smoothness_mean' is 2.6%.\n",
      "The importance of feature 'compactness_mean' is 5.15%.\n",
      "The importance of feature 'concavity_mean' is 18.17%.\n",
      "The importance of feature 'concave points_mean' is 29.22%.\n",
      "The importance of feature 'symmetry_mean' is 1.91%.\n",
      "The importance of feature 'fractal_dimension_mean' is 1.74%.\n"
     ]
    }
   ],
   "source": [
    "attribute_cut_off = 0.15 #level of acceptable feature importance (must be a number between 0 and 1 - a value of 0 would include all attributes)\n",
    "\n",
    "importances = clf_RF.feature_importances_\n",
    "columns = X.columns\n",
    "\n",
    "i = 0\n",
    "best_attributes_list = []\n",
    "\n",
    "while i < len(columns):\n",
    "    print(f\"The importance of attribute '{columns[i]}' is {round(importances[i] * 100, 2)}%.\")\n",
    "    if importances[i] > attribute_cut_off:\n",
    "        best_attributes_list.append(columns[i])\n",
    "    i = i + 1"
   ]
  },
  {
   "cell_type": "code",
   "execution_count": 16,
   "id": "2907eda7",
   "metadata": {},
   "outputs": [
    {
     "name": "stdout",
     "output_type": "stream",
     "text": [
      "The attributes with 15.0% or higher importance in predicting malignant samples were:\n",
      "['perimeter_mean', 'concavity_mean', 'concave points_mean']\n"
     ]
    }
   ],
   "source": [
    "print(f\"The attributes with {round(attribute_cut_off * 100, 2)}% or higher importance in predicting malignant samples were:\")\n",
    "print(best_attributes_list)"
   ]
  },
  {
   "cell_type": "code",
   "execution_count": 17,
   "id": "1a1dfa30",
   "metadata": {},
   "outputs": [],
   "source": [
    "best_X = X[best_attributes_list] #dataframe of attributes that met attribute_cut_off\n",
    "\n",
    "best_X_train, best_X_test, best_y_train, best_y_test = train_test_split(best_X, y, test_size=0.3, random_state=0)\n",
    "best_clf_RF = RandomForestClassifier(n_estimators = num_trees, max_features = \"auto\", random_state = 42, bootstrap = True).fit(best_X_train, best_y_train.values.ravel())"
   ]
  },
  {
   "cell_type": "code",
   "execution_count": 18,
   "id": "be0c87bb",
   "metadata": {
    "scrolled": false
   },
   "outputs": [
    {
     "name": "stdout",
     "output_type": "stream",
     "text": [
      "Best Attributes Random Forest - Train: 100.0%\n",
      "Best Attributes Random Forest - Test: 90.64%\n"
     ]
    }
   ],
   "source": [
    "print(f\"Random forest from the most important attributes - Train: {round((metrics.accuracy_score(best_clf_RF.predict(best_X_train), best_y_train)) * 100, 2)}%\")\n",
    "print(f\"Random forest from the most important attributes - Test: {round((metrics.accuracy_score(best_clf_RF.predict(best_X_test), best_y_test)) * 100, 2)}%\")"
   ]
  }
 ],
 "metadata": {
  "kernelspec": {
   "display_name": "Python 3 (ipykernel)",
   "language": "python",
   "name": "python3"
  },
  "language_info": {
   "codemirror_mode": {
    "name": "ipython",
    "version": 3
   },
   "file_extension": ".py",
   "mimetype": "text/x-python",
   "name": "python",
   "nbconvert_exporter": "python",
   "pygments_lexer": "ipython3",
   "version": "3.9.12"
  }
 },
 "nbformat": 4,
 "nbformat_minor": 5
}
