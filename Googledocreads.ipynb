{
 "cells": [
  {
   "cell_type": "code",
   "execution_count": 7,
   "id": "f86a3ab8",
   "metadata": {},
   "outputs": [
    {
     "name": "stdout",
     "output_type": "stream",
     "text": [
      "██████████░ ██████░    ███████░     ██░     ██░     ████████░    ██░    ███░   ████████░  \n",
      "██░           ██░    ███░    ██░   ████░   ████░    ██░     ██░  ██░  ███░   ███░     ███░\n",
      "██░           ██░   ███░           ██░██░ ██░██░    ██░      ██░ ██░███░     ██░       ██░\n",
      "████████░     ██░   ██░           ███░ ██░██░ ██░   ██░      ██░ ████░       ██░       ██░\n",
      "██░           ██░   ███░          ██░  █████░ ███░  ██░      ██░ ██░███░     ██░       ██░\n",
      "██░           ██░    ███░    ██░ ███░   ███░   ██░  ██░     ██░  ██░  ███░   ███░     ███░\n",
      "██████████░ ██████░    ███████░  ██░           ███░ ████████░    ██░    ███░   ████████░  \n"
     ]
    }
   ],
   "source": [
    "import requests\n",
    "from bs4 import BeautifulSoup\n",
    "\n",
    "def fetch_published_doc_content(url):\n",
    "    \"\"\"Fetch content from a published Google Doc.\"\"\"\n",
    "    try:\n",
    "        response = requests.get(url)\n",
    "        response.raise_for_status()  # Raise an error for bad responses (404, 403, etc.)\n",
    "        return response.text  # Return the raw HTML content of the document\n",
    "    except requests.exceptions.RequestException as e:\n",
    "        print(f\"Error fetching published document: {e}\")\n",
    "        return None\n",
    "\n",
    "def parse_table_data(html_content):\n",
    "    \"\"\"Parse the character and coordinate table from the HTML content.\"\"\"\n",
    "    soup = BeautifulSoup(html_content, 'html.parser')\n",
    "    \n",
    "    # Find the table in the HTML document (assuming it's the only or primary table)\n",
    "    table = soup.find('table')\n",
    "\n",
    "    grid_data = []\n",
    "    \n",
    "    # Iterate over table rows and extract x-coordinate, character, and y-coordinate\n",
    "    for row in table.find_all('tr')[1:]:  # Skip the header row by starting from index 1\n",
    "        cells = row.find_all('td')\n",
    "        if len(cells) == 3:\n",
    "            try:\n",
    "                x_coord = int(cells[0].get_text().strip())\n",
    "                character = cells[1].get_text().strip()\n",
    "                y_coord = int(cells[2].get_text().strip())\n",
    "                grid_data.append((x_coord, character, y_coord))\n",
    "            except ValueError:\n",
    "                # Skip rows that don't contain valid integer coordinates\n",
    "                continue\n",
    "    \n",
    "    return grid_data\n",
    "\n",
    "def create_and_print_grid(grid_data):\n",
    "    \"\"\"Create and print the grid based on the parsed table data.\"\"\"\n",
    "    # Find the max x and y values to determine grid size\n",
    "    max_x = max(item[0] for item in grid_data)\n",
    "    max_y = max(item[2] for item in grid_data)\n",
    "\n",
    "    # Initialize a grid filled with spaces\n",
    "    grid = [[' ' for _ in range(max_x + 1)] for _ in range(max_y + 1)]\n",
    "\n",
    "    # Fill the grid with the characters from the parsed data\n",
    "    for x, char, y in grid_data:\n",
    "        grid[y][x] = char\n",
    "    \n",
    "    # Print the grid row by row\n",
    "    for row in grid:\n",
    "        print(''.join(row))\n",
    "\n",
    "def display_secret_message_from_doc(url):\n",
    "    \"\"\"Main function to fetch, parse, and display the secret message from the Google Doc.\"\"\"\n",
    "    # Step 1: Fetch the published document content\n",
    "    html_content = fetch_published_doc_content(url)\n",
    "    \n",
    "    if html_content:\n",
    "        # Step 2: Parse the table data from the HTML content\n",
    "        grid_data = parse_table_data(html_content)\n",
    "        \n",
    "        # Step 3: Create and print the grid with the secret message\n",
    "        create_and_print_grid(grid_data)\n",
    "\n",
    "# Example usage with the provided URL:\n",
    "url = 'https://docs.google.com/document/d/e/2PACX-1vSHesOf9hv2sPOntssYrEdubmMQm8lwjfwv6NPjjmIRYs_FOYXtqrYgjh85jBUebK9swPXh_a5TJ5Kl/pub'\n",
    "display_secret_message_from_doc(url)"
   ]
  }
 ],
 "metadata": {
  "kernelspec": {
   "display_name": "Python 3 (ipykernel)",
   "language": "python",
   "name": "python3"
  },
  "language_info": {
   "codemirror_mode": {
    "name": "ipython",
    "version": 3
   },
   "file_extension": ".py",
   "mimetype": "text/x-python",
   "name": "python",
   "nbconvert_exporter": "python",
   "pygments_lexer": "ipython3",
   "version": "3.10.9"
  }
 },
 "nbformat": 4,
 "nbformat_minor": 5
}
